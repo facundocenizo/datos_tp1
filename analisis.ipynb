{
 "cells": [
  {
   "cell_type": "code",
   "execution_count": 1,
   "metadata": {},
   "outputs": [],
   "source": [
    "import pandas as pd\n",
    "import numpy as np\n",
    "import matplotlib.pyplot as plt"
   ]
  },
  {
   "cell_type": "code",
   "execution_count": 2,
   "metadata": {},
   "outputs": [],
   "source": [
    "#Levanto el archivo\n",
    "eventos = pd.read_csv('data/events.csv', low_memory=False)"
   ]
  },
  {
   "cell_type": "code",
   "execution_count": 3,
   "metadata": {
    "scrolled": true
   },
   "outputs": [
    {
     "data": {
      "text/plain": [
       "iPhone 6                  50916\n",
       "iPhone 5s                 44878\n",
       "iPhone 6S                 39296\n",
       "iPhone 7                  27556\n",
       "Samsung Galaxy S7 Edge    23926\n",
       "Samsung Galaxy S7         19337\n",
       "iPhone 7 Plus             18792\n",
       "Samsung Galaxy S8         16959\n",
       "iPhone SE                 16531\n",
       "Samsung Galaxy J5         13044\n",
       "Name: model, dtype: int64"
      ]
     },
     "execution_count": 3,
     "metadata": {},
     "output_type": "execute_result"
    }
   ],
   "source": [
    "eventos['model'].value_counts().head(10)"
   ]
  },
  {
   "cell_type": "code",
   "execution_count": 4,
   "metadata": {
    "scrolled": true
   },
   "outputs": [
    {
     "data": {
      "text/html": [
       "<div>\n",
       "<style scoped>\n",
       "    .dataframe tbody tr th:only-of-type {\n",
       "        vertical-align: middle;\n",
       "    }\n",
       "\n",
       "    .dataframe tbody tr th {\n",
       "        vertical-align: top;\n",
       "    }\n",
       "\n",
       "    .dataframe thead th {\n",
       "        text-align: right;\n",
       "    }\n",
       "</style>\n",
       "<table border=\"1\" class=\"dataframe\">\n",
       "  <thead>\n",
       "    <tr style=\"text-align: right;\">\n",
       "      <th></th>\n",
       "      <th>person</th>\n",
       "      <th>model</th>\n",
       "      <th>condition</th>\n",
       "      <th>storage</th>\n",
       "      <th>color</th>\n",
       "    </tr>\n",
       "  </thead>\n",
       "  <tbody>\n",
       "    <tr>\n",
       "      <th>220</th>\n",
       "      <td>00204059</td>\n",
       "      <td>Motorola Moto X2</td>\n",
       "      <td>Muito Bom</td>\n",
       "      <td>32GB</td>\n",
       "      <td>Couro Vintage</td>\n",
       "    </tr>\n",
       "    <tr>\n",
       "      <th>2282</th>\n",
       "      <td>00c13dee</td>\n",
       "      <td>Samsung Galaxy Core Plus Duos TV</td>\n",
       "      <td>Muito Bom</td>\n",
       "      <td>4GB</td>\n",
       "      <td>Branco</td>\n",
       "    </tr>\n",
       "    <tr>\n",
       "      <th>2547</th>\n",
       "      <td>00fdbb4b</td>\n",
       "      <td>Samsung Galaxy S6 Flat</td>\n",
       "      <td>Muito Bom</td>\n",
       "      <td>32GB</td>\n",
       "      <td>Branco</td>\n",
       "    </tr>\n",
       "    <tr>\n",
       "      <th>4245</th>\n",
       "      <td>0146a9df</td>\n",
       "      <td>iPhone 5s</td>\n",
       "      <td>Bom</td>\n",
       "      <td>32GB</td>\n",
       "      <td>Cinza espacial</td>\n",
       "    </tr>\n",
       "    <tr>\n",
       "      <th>6985</th>\n",
       "      <td>01db2fe6</td>\n",
       "      <td>Samsung Galaxy J5</td>\n",
       "      <td>Bom</td>\n",
       "      <td>16GB</td>\n",
       "      <td>Preto</td>\n",
       "    </tr>\n",
       "  </tbody>\n",
       "</table>\n",
       "</div>"
      ],
      "text/plain": [
       "        person                             model  condition storage  \\\n",
       "220   00204059                  Motorola Moto X2  Muito Bom    32GB   \n",
       "2282  00c13dee  Samsung Galaxy Core Plus Duos TV  Muito Bom     4GB   \n",
       "2547  00fdbb4b            Samsung Galaxy S6 Flat  Muito Bom    32GB   \n",
       "4245  0146a9df                         iPhone 5s        Bom    32GB   \n",
       "6985  01db2fe6                 Samsung Galaxy J5        Bom    16GB   \n",
       "\n",
       "               color  \n",
       "220    Couro Vintage  \n",
       "2282          Branco  \n",
       "2547          Branco  \n",
       "4245  Cinza espacial  \n",
       "6985           Preto  "
      ]
     },
     "execution_count": 4,
     "metadata": {},
     "output_type": "execute_result"
    }
   ],
   "source": [
    "telefonosComprados = eventos.loc[(eventos['event'] == 'conversion'),:]\n",
    "telefonosComprados = telefonosComprados.loc[:,['person','model','condition','storage','color']]\n",
    "telefonosComprados.head(5)"
   ]
  },
  {
   "cell_type": "code",
   "execution_count": 5,
   "metadata": {},
   "outputs": [],
   "source": [
    "telefonosComprados['marca'] = telefonosComprados.apply( lambda x: str(x['model']).split()[0], axis = 1)"
   ]
  },
  {
   "cell_type": "code",
   "execution_count": 6,
   "metadata": {},
   "outputs": [
    {
     "data": {
      "text/plain": [
       "Samsung     641\n",
       "iPhone      323\n",
       "Motorola    149\n",
       "Sony         23\n",
       "LG           20\n",
       "Lenovo       14\n",
       "Asus          2\n",
       "Name: marca, dtype: int64"
      ]
     },
     "execution_count": 6,
     "metadata": {},
     "output_type": "execute_result"
    }
   ],
   "source": [
    "telefonosComprados['marca'].value_counts()"
   ]
  },
  {
   "cell_type": "code",
   "execution_count": 7,
   "metadata": {},
   "outputs": [
    {
     "data": {
      "text/plain": [
       "Samsung Galaxy J5                    88\n",
       "Samsung Galaxy S6 Flat               39\n",
       "Samsung Galaxy J7                    28\n",
       "Samsung Galaxy A5                    27\n",
       "Samsung Galaxy Gran Prime Duos TV    24\n",
       "Name: model, dtype: int64"
      ]
     },
     "execution_count": 7,
     "metadata": {},
     "output_type": "execute_result"
    }
   ],
   "source": [
    "telefonosComprados[telefonosComprados['marca']=='Samsung']['model'].value_counts().head()"
   ]
  },
  {
   "cell_type": "code",
   "execution_count": 8,
   "metadata": {},
   "outputs": [
    {
     "data": {
      "text/plain": [
       "iPhone 5s    84\n",
       "iPhone 6     71\n",
       "iPhone 6S    37\n",
       "iPhone 5c    33\n",
       "iPhone SE    17\n",
       "Name: model, dtype: int64"
      ]
     },
     "execution_count": 8,
     "metadata": {},
     "output_type": "execute_result"
    }
   ],
   "source": [
    "telefonosComprados[telefonosComprados['marca']=='iPhone']['model'].value_counts().head()"
   ]
  },
  {
   "cell_type": "code",
   "execution_count": 9,
   "metadata": {},
   "outputs": [
    {
     "data": {
      "text/plain": [
       "Motorola Moto G4 Plus           30\n",
       "Motorola Moto G3 4G             30\n",
       "Motorola Moto G2 3G Dual        17\n",
       "Motorola Moto X Play 4G Dual    12\n",
       "Motorola Moto G5                 7\n",
       "Name: model, dtype: int64"
      ]
     },
     "execution_count": 9,
     "metadata": {},
     "output_type": "execute_result"
    }
   ],
   "source": [
    "telefonosComprados[telefonosComprados['marca']=='Motorola']['model'].value_counts().head()"
   ]
  },
  {
   "cell_type": "code",
   "execution_count": 10,
   "metadata": {},
   "outputs": [],
   "source": [
    "eventos['marca'] = eventos.apply( lambda x: str(x['model']).split()[0], axis = 1)"
   ]
  },
  {
   "cell_type": "code",
   "execution_count": 11,
   "metadata": {},
   "outputs": [
    {
     "data": {
      "text/plain": [
       "nan           447004\n",
       "iPhone        256585\n",
       "Samsung       218127\n",
       "Motorola       63518\n",
       "LG              9724\n",
       "Sony            7025\n",
       "Lenovo          4779\n",
       "Asus            2091\n",
       "iPad            1914\n",
       "Quantum          520\n",
       "Blackberry         1\n",
       "Name: marca, dtype: int64"
      ]
     },
     "execution_count": 11,
     "metadata": {},
     "output_type": "execute_result"
    }
   ],
   "source": [
    "eventos['marca'].value_counts()"
   ]
  },
  {
   "cell_type": "code",
   "execution_count": 12,
   "metadata": {},
   "outputs": [
    {
     "data": {
      "text/plain": [
       "2830.0     4282\n",
       "2831.0     3770\n",
       "2829.0     3709\n",
       "8443.0     3506\n",
       "12758.0    2939\n",
       "2833.0     2908\n",
       "6371.0     2628\n",
       "5907.0     2602\n",
       "3371.0     2574\n",
       "9930.0     2540\n",
       "Name: sku, dtype: int64"
      ]
     },
     "execution_count": 12,
     "metadata": {},
     "output_type": "execute_result"
    }
   ],
   "source": [
    "#id mas solicitados\n",
    "eventos['sku'].value_counts().head(10)"
   ]
  },
  {
   "cell_type": "code",
   "execution_count": null,
   "metadata": {},
   "outputs": [],
   "source": []
  },
  {
   "cell_type": "code",
   "execution_count": 13,
   "metadata": {},
   "outputs": [],
   "source": [
    "idProductosMasSolicitados = eventos['sku'].value_counts().head(10).reset_index()\n",
    "listaidsMasSolicitados = idProductosMasSolicitados['index'].tolist()"
   ]
  },
  {
   "cell_type": "code",
   "execution_count": 14,
   "metadata": {},
   "outputs": [
    {
     "data": {
      "text/html": [
       "<div>\n",
       "<style scoped>\n",
       "    .dataframe tbody tr th:only-of-type {\n",
       "        vertical-align: middle;\n",
       "    }\n",
       "\n",
       "    .dataframe tbody tr th {\n",
       "        vertical-align: top;\n",
       "    }\n",
       "\n",
       "    .dataframe thead th {\n",
       "        text-align: right;\n",
       "    }\n",
       "</style>\n",
       "<table border=\"1\" class=\"dataframe\">\n",
       "  <thead>\n",
       "    <tr style=\"text-align: right;\">\n",
       "      <th></th>\n",
       "      <th>timestamp</th>\n",
       "      <th>event</th>\n",
       "      <th>person</th>\n",
       "      <th>url</th>\n",
       "      <th>sku</th>\n",
       "      <th>model</th>\n",
       "      <th>condition</th>\n",
       "      <th>storage</th>\n",
       "      <th>color</th>\n",
       "      <th>skus</th>\n",
       "      <th>...</th>\n",
       "      <th>channel</th>\n",
       "      <th>new_vs_returning</th>\n",
       "      <th>city</th>\n",
       "      <th>region</th>\n",
       "      <th>country</th>\n",
       "      <th>device_type</th>\n",
       "      <th>screen_resolution</th>\n",
       "      <th>operating_system_version</th>\n",
       "      <th>browser_version</th>\n",
       "      <th>marca</th>\n",
       "    </tr>\n",
       "  </thead>\n",
       "  <tbody>\n",
       "    <tr>\n",
       "      <th>104</th>\n",
       "      <td>2018-06-06 18:40:51</td>\n",
       "      <td>viewed product</td>\n",
       "      <td>001bb7eb</td>\n",
       "      <td>NaN</td>\n",
       "      <td>9930.0</td>\n",
       "      <td>iPhone 7</td>\n",
       "      <td>Bom</td>\n",
       "      <td>32GB</td>\n",
       "      <td>Preto Matte</td>\n",
       "      <td>NaN</td>\n",
       "      <td>...</td>\n",
       "      <td>NaN</td>\n",
       "      <td>NaN</td>\n",
       "      <td>NaN</td>\n",
       "      <td>NaN</td>\n",
       "      <td>NaN</td>\n",
       "      <td>NaN</td>\n",
       "      <td>NaN</td>\n",
       "      <td>NaN</td>\n",
       "      <td>NaN</td>\n",
       "      <td>iPhone</td>\n",
       "    </tr>\n",
       "    <tr>\n",
       "      <th>179</th>\n",
       "      <td>2018-02-14 20:37:41</td>\n",
       "      <td>viewed product</td>\n",
       "      <td>00204059</td>\n",
       "      <td>NaN</td>\n",
       "      <td>2833.0</td>\n",
       "      <td>iPhone 6</td>\n",
       "      <td>Bom</td>\n",
       "      <td>64GB</td>\n",
       "      <td>Cinza espacial</td>\n",
       "      <td>NaN</td>\n",
       "      <td>...</td>\n",
       "      <td>NaN</td>\n",
       "      <td>NaN</td>\n",
       "      <td>NaN</td>\n",
       "      <td>NaN</td>\n",
       "      <td>NaN</td>\n",
       "      <td>NaN</td>\n",
       "      <td>NaN</td>\n",
       "      <td>NaN</td>\n",
       "      <td>NaN</td>\n",
       "      <td>iPhone</td>\n",
       "    </tr>\n",
       "    <tr>\n",
       "      <th>180</th>\n",
       "      <td>2018-02-14 20:38:01</td>\n",
       "      <td>viewed product</td>\n",
       "      <td>00204059</td>\n",
       "      <td>NaN</td>\n",
       "      <td>2830.0</td>\n",
       "      <td>iPhone 6</td>\n",
       "      <td>Bom</td>\n",
       "      <td>16GB</td>\n",
       "      <td>Cinza espacial</td>\n",
       "      <td>NaN</td>\n",
       "      <td>...</td>\n",
       "      <td>NaN</td>\n",
       "      <td>NaN</td>\n",
       "      <td>NaN</td>\n",
       "      <td>NaN</td>\n",
       "      <td>NaN</td>\n",
       "      <td>NaN</td>\n",
       "      <td>NaN</td>\n",
       "      <td>NaN</td>\n",
       "      <td>NaN</td>\n",
       "      <td>iPhone</td>\n",
       "    </tr>\n",
       "    <tr>\n",
       "      <th>185</th>\n",
       "      <td>2018-02-14 20:42:31</td>\n",
       "      <td>viewed product</td>\n",
       "      <td>00204059</td>\n",
       "      <td>NaN</td>\n",
       "      <td>2831.0</td>\n",
       "      <td>iPhone 6</td>\n",
       "      <td>Bom</td>\n",
       "      <td>16GB</td>\n",
       "      <td>Dourado</td>\n",
       "      <td>NaN</td>\n",
       "      <td>...</td>\n",
       "      <td>NaN</td>\n",
       "      <td>NaN</td>\n",
       "      <td>NaN</td>\n",
       "      <td>NaN</td>\n",
       "      <td>NaN</td>\n",
       "      <td>NaN</td>\n",
       "      <td>NaN</td>\n",
       "      <td>NaN</td>\n",
       "      <td>NaN</td>\n",
       "      <td>iPhone</td>\n",
       "    </tr>\n",
       "    <tr>\n",
       "      <th>358</th>\n",
       "      <td>2018-05-30 18:34:14</td>\n",
       "      <td>viewed product</td>\n",
       "      <td>002932b1</td>\n",
       "      <td>NaN</td>\n",
       "      <td>2833.0</td>\n",
       "      <td>iPhone 6</td>\n",
       "      <td>Bom</td>\n",
       "      <td>64GB</td>\n",
       "      <td>Cinza espacial</td>\n",
       "      <td>NaN</td>\n",
       "      <td>...</td>\n",
       "      <td>NaN</td>\n",
       "      <td>NaN</td>\n",
       "      <td>NaN</td>\n",
       "      <td>NaN</td>\n",
       "      <td>NaN</td>\n",
       "      <td>NaN</td>\n",
       "      <td>NaN</td>\n",
       "      <td>NaN</td>\n",
       "      <td>NaN</td>\n",
       "      <td>iPhone</td>\n",
       "    </tr>\n",
       "  </tbody>\n",
       "</table>\n",
       "<p>5 rows × 24 columns</p>\n",
       "</div>"
      ],
      "text/plain": [
       "               timestamp           event    person  url     sku     model  \\\n",
       "104  2018-06-06 18:40:51  viewed product  001bb7eb  NaN  9930.0  iPhone 7   \n",
       "179  2018-02-14 20:37:41  viewed product  00204059  NaN  2833.0  iPhone 6   \n",
       "180  2018-02-14 20:38:01  viewed product  00204059  NaN  2830.0  iPhone 6   \n",
       "185  2018-02-14 20:42:31  viewed product  00204059  NaN  2831.0  iPhone 6   \n",
       "358  2018-05-30 18:34:14  viewed product  002932b1  NaN  2833.0  iPhone 6   \n",
       "\n",
       "    condition storage           color skus   ...   channel new_vs_returning  \\\n",
       "104       Bom    32GB     Preto Matte  NaN   ...       NaN              NaN   \n",
       "179       Bom    64GB  Cinza espacial  NaN   ...       NaN              NaN   \n",
       "180       Bom    16GB  Cinza espacial  NaN   ...       NaN              NaN   \n",
       "185       Bom    16GB         Dourado  NaN   ...       NaN              NaN   \n",
       "358       Bom    64GB  Cinza espacial  NaN   ...       NaN              NaN   \n",
       "\n",
       "    city region country device_type screen_resolution  \\\n",
       "104  NaN    NaN     NaN         NaN               NaN   \n",
       "179  NaN    NaN     NaN         NaN               NaN   \n",
       "180  NaN    NaN     NaN         NaN               NaN   \n",
       "185  NaN    NaN     NaN         NaN               NaN   \n",
       "358  NaN    NaN     NaN         NaN               NaN   \n",
       "\n",
       "    operating_system_version browser_version   marca  \n",
       "104                      NaN             NaN  iPhone  \n",
       "179                      NaN             NaN  iPhone  \n",
       "180                      NaN             NaN  iPhone  \n",
       "185                      NaN             NaN  iPhone  \n",
       "358                      NaN             NaN  iPhone  \n",
       "\n",
       "[5 rows x 24 columns]"
      ]
     },
     "execution_count": 14,
     "metadata": {},
     "output_type": "execute_result"
    }
   ],
   "source": [
    "productosMasSolicitados = eventos.loc[eventos['sku'].isin(listaidsMasSolicitados)]\n",
    "productosMasSolicitados.head()"
   ]
  },
  {
   "cell_type": "code",
   "execution_count": 15,
   "metadata": {},
   "outputs": [
    {
     "data": {
      "text/html": [
       "<div>\n",
       "<style scoped>\n",
       "    .dataframe tbody tr th:only-of-type {\n",
       "        vertical-align: middle;\n",
       "    }\n",
       "\n",
       "    .dataframe tbody tr th {\n",
       "        vertical-align: top;\n",
       "    }\n",
       "\n",
       "    .dataframe thead th {\n",
       "        text-align: right;\n",
       "    }\n",
       "</style>\n",
       "<table border=\"1\" class=\"dataframe\">\n",
       "  <thead>\n",
       "    <tr style=\"text-align: right;\">\n",
       "      <th></th>\n",
       "      <th></th>\n",
       "      <th>event</th>\n",
       "      <th>checkout</th>\n",
       "      <th>conversion</th>\n",
       "      <th>viewed product</th>\n",
       "    </tr>\n",
       "    <tr>\n",
       "      <th>sku</th>\n",
       "      <th>model</th>\n",
       "      <th>color</th>\n",
       "      <th></th>\n",
       "      <th></th>\n",
       "      <th></th>\n",
       "    </tr>\n",
       "  </thead>\n",
       "  <tbody>\n",
       "    <tr>\n",
       "      <th>2830.0</th>\n",
       "      <th>iPhone 6</th>\n",
       "      <th>Cinza espacial</th>\n",
       "      <td>272.0</td>\n",
       "      <td>3.0</td>\n",
       "      <td>4007.0</td>\n",
       "    </tr>\n",
       "    <tr>\n",
       "      <th>2829.0</th>\n",
       "      <th>iPhone 6</th>\n",
       "      <th>Prateado</th>\n",
       "      <td>239.0</td>\n",
       "      <td>4.0</td>\n",
       "      <td>3466.0</td>\n",
       "    </tr>\n",
       "    <tr>\n",
       "      <th>2831.0</th>\n",
       "      <th>iPhone 6</th>\n",
       "      <th>Dourado</th>\n",
       "      <td>343.0</td>\n",
       "      <td>4.0</td>\n",
       "      <td>3423.0</td>\n",
       "    </tr>\n",
       "    <tr>\n",
       "      <th>8443.0</th>\n",
       "      <th>Samsung Galaxy S7</th>\n",
       "      <th>Preto</th>\n",
       "      <td>237.0</td>\n",
       "      <td>4.0</td>\n",
       "      <td>3265.0</td>\n",
       "    </tr>\n",
       "    <tr>\n",
       "      <th>12758.0</th>\n",
       "      <th>Samsung Galaxy S8</th>\n",
       "      <th>Preto</th>\n",
       "      <td>218.0</td>\n",
       "      <td>7.0</td>\n",
       "      <td>2714.0</td>\n",
       "    </tr>\n",
       "    <tr>\n",
       "      <th>2833.0</th>\n",
       "      <th>iPhone 6</th>\n",
       "      <th>Cinza espacial</th>\n",
       "      <td>219.0</td>\n",
       "      <td>4.0</td>\n",
       "      <td>2685.0</td>\n",
       "    </tr>\n",
       "    <tr>\n",
       "      <th>9930.0</th>\n",
       "      <th>iPhone 7</th>\n",
       "      <th>Preto Matte</th>\n",
       "      <td>125.0</td>\n",
       "      <td>NaN</td>\n",
       "      <td>2415.0</td>\n",
       "    </tr>\n",
       "    <tr>\n",
       "      <th>5907.0</th>\n",
       "      <th>iPhone 5s</th>\n",
       "      <th>Cinza espacial</th>\n",
       "      <td>198.0</td>\n",
       "      <td>NaN</td>\n",
       "      <td>2404.0</td>\n",
       "    </tr>\n",
       "    <tr>\n",
       "      <th>3371.0</th>\n",
       "      <th>Samsung Galaxy S6 Flat</th>\n",
       "      <th>Dourado</th>\n",
       "      <td>217.0</td>\n",
       "      <td>14.0</td>\n",
       "      <td>2343.0</td>\n",
       "    </tr>\n",
       "    <tr>\n",
       "      <th>6371.0</th>\n",
       "      <th>Samsung Galaxy J5</th>\n",
       "      <th>Dourado</th>\n",
       "      <td>462.0</td>\n",
       "      <td>30.0</td>\n",
       "      <td>2136.0</td>\n",
       "    </tr>\n",
       "  </tbody>\n",
       "</table>\n",
       "</div>"
      ],
      "text/plain": [
       "event                                          checkout  conversion  \\\n",
       "sku     model                  color                                  \n",
       "2830.0  iPhone 6               Cinza espacial     272.0         3.0   \n",
       "2829.0  iPhone 6               Prateado           239.0         4.0   \n",
       "2831.0  iPhone 6               Dourado            343.0         4.0   \n",
       "8443.0  Samsung Galaxy S7      Preto              237.0         4.0   \n",
       "12758.0 Samsung Galaxy S8      Preto              218.0         7.0   \n",
       "2833.0  iPhone 6               Cinza espacial     219.0         4.0   \n",
       "9930.0  iPhone 7               Preto Matte        125.0         NaN   \n",
       "5907.0  iPhone 5s              Cinza espacial     198.0         NaN   \n",
       "3371.0  Samsung Galaxy S6 Flat Dourado            217.0        14.0   \n",
       "6371.0  Samsung Galaxy J5      Dourado            462.0        30.0   \n",
       "\n",
       "event                                          viewed product  \n",
       "sku     model                  color                           \n",
       "2830.0  iPhone 6               Cinza espacial          4007.0  \n",
       "2829.0  iPhone 6               Prateado                3466.0  \n",
       "2831.0  iPhone 6               Dourado                 3423.0  \n",
       "8443.0  Samsung Galaxy S7      Preto                   3265.0  \n",
       "12758.0 Samsung Galaxy S8      Preto                   2714.0  \n",
       "2833.0  iPhone 6               Cinza espacial          2685.0  \n",
       "9930.0  iPhone 7               Preto Matte             2415.0  \n",
       "5907.0  iPhone 5s              Cinza espacial          2404.0  \n",
       "3371.0  Samsung Galaxy S6 Flat Dourado                 2343.0  \n",
       "6371.0  Samsung Galaxy J5      Dourado                 2136.0  "
      ]
     },
     "execution_count": 15,
     "metadata": {},
     "output_type": "execute_result"
    }
   ],
   "source": [
    "productosMasSolicitados.groupby(['sku','model','color','event']).agg(np.size)['person'].unstack(3).sort_values('viewed product',ascending=False)"
   ]
  },
  {
   "cell_type": "code",
   "execution_count": 17,
   "metadata": {},
   "outputs": [
    {
     "data": {
      "text/plain": [
       "viewed product    4007\n",
       "checkout           272\n",
       "conversion           3\n",
       "Name: event, dtype: int64"
      ]
     },
     "execution_count": 17,
     "metadata": {},
     "output_type": "execute_result"
    }
   ],
   "source": [
    "#id mas vistos\n",
    "eventos['sku'].value_counts().head(10)\n",
    "eventos[eventos['sku']== '2830.0']['event'].value_counts()\n",
    "\n",
    "\n",
    "#sku   nombre del producto, visitas, checkouts, conversion\n",
    "#2830  iphone 6             4007         272      3\n",
    "#      iphone 5s             "
   ]
  },
  {
   "cell_type": "code",
   "execution_count": 22,
   "metadata": {},
   "outputs": [
    {
     "data": {
      "text/html": [
       "<div>\n",
       "<style scoped>\n",
       "    .dataframe tbody tr th:only-of-type {\n",
       "        vertical-align: middle;\n",
       "    }\n",
       "\n",
       "    .dataframe tbody tr th {\n",
       "        vertical-align: top;\n",
       "    }\n",
       "\n",
       "    .dataframe thead th {\n",
       "        text-align: right;\n",
       "    }\n",
       "</style>\n",
       "<table border=\"1\" class=\"dataframe\">\n",
       "  <thead>\n",
       "    <tr style=\"text-align: right;\">\n",
       "      <th></th>\n",
       "      <th></th>\n",
       "      <th></th>\n",
       "      <th>Cantidad de Compra/Checkout/Visita</th>\n",
       "    </tr>\n",
       "    <tr>\n",
       "      <th>id</th>\n",
       "      <th>modelo</th>\n",
       "      <th>color</th>\n",
       "      <th></th>\n",
       "    </tr>\n",
       "  </thead>\n",
       "  <tbody>\n",
       "    <tr>\n",
       "      <th>12758.0</th>\n",
       "      <th>Samsung Galaxy S8</th>\n",
       "      <th>Preto</th>\n",
       "      <td>2939</td>\n",
       "    </tr>\n",
       "    <tr>\n",
       "      <th>2829.0</th>\n",
       "      <th>iPhone 6</th>\n",
       "      <th>Prateado</th>\n",
       "      <td>3709</td>\n",
       "    </tr>\n",
       "    <tr>\n",
       "      <th>2830.0</th>\n",
       "      <th>iPhone 6</th>\n",
       "      <th>Cinza espacial</th>\n",
       "      <td>4282</td>\n",
       "    </tr>\n",
       "    <tr>\n",
       "      <th>2831.0</th>\n",
       "      <th>iPhone 6</th>\n",
       "      <th>Dourado</th>\n",
       "      <td>3770</td>\n",
       "    </tr>\n",
       "    <tr>\n",
       "      <th>2833.0</th>\n",
       "      <th>iPhone 6</th>\n",
       "      <th>Cinza espacial</th>\n",
       "      <td>2908</td>\n",
       "    </tr>\n",
       "    <tr>\n",
       "      <th>3371.0</th>\n",
       "      <th>Samsung Galaxy S6 Flat</th>\n",
       "      <th>Dourado</th>\n",
       "      <td>2574</td>\n",
       "    </tr>\n",
       "    <tr>\n",
       "      <th>5907.0</th>\n",
       "      <th>iPhone 5s</th>\n",
       "      <th>Cinza espacial</th>\n",
       "      <td>2602</td>\n",
       "    </tr>\n",
       "    <tr>\n",
       "      <th>6371.0</th>\n",
       "      <th>Samsung Galaxy J5</th>\n",
       "      <th>Dourado</th>\n",
       "      <td>2628</td>\n",
       "    </tr>\n",
       "    <tr>\n",
       "      <th>8443.0</th>\n",
       "      <th>Samsung Galaxy S7</th>\n",
       "      <th>Preto</th>\n",
       "      <td>3506</td>\n",
       "    </tr>\n",
       "    <tr>\n",
       "      <th>9930.0</th>\n",
       "      <th>iPhone 7</th>\n",
       "      <th>Preto Matte</th>\n",
       "      <td>2540</td>\n",
       "    </tr>\n",
       "  </tbody>\n",
       "</table>\n",
       "</div>"
      ],
      "text/plain": [
       "                                               Cantidad de Compra/Checkout/Visita\n",
       "id      modelo                 color                                             \n",
       "12758.0 Samsung Galaxy S8      Preto                                         2939\n",
       "2829.0  iPhone 6               Prateado                                      3709\n",
       "2830.0  iPhone 6               Cinza espacial                                4282\n",
       "2831.0  iPhone 6               Dourado                                       3770\n",
       "2833.0  iPhone 6               Cinza espacial                                2908\n",
       "3371.0  Samsung Galaxy S6 Flat Dourado                                       2574\n",
       "5907.0  iPhone 5s              Cinza espacial                                2602\n",
       "6371.0  Samsung Galaxy J5      Dourado                                       2628\n",
       "8443.0  Samsung Galaxy S7      Preto                                         3506\n",
       "9930.0  iPhone 7               Preto Matte                                   2540"
      ]
     },
     "execution_count": 22,
     "metadata": {},
     "output_type": "execute_result"
    }
   ],
   "source": [
    "productosConMayorVistaCompraCheckout.columns = ['id','Cantidad de Compra/Checkout/Visita','modelo','color']\n",
    "tabla = productosConMayorVistaCompraCheckout.groupby(['id','modelo','color']).agg(np.size)\n",
    "tabla"
   ]
  },
  {
   "cell_type": "code",
   "execution_count": 23,
   "metadata": {},
   "outputs": [
    {
     "data": {
      "text/plain": [
       "Text(0.5,1,'Producto mas concurrentes en la pagina de Trocafone')"
      ]
     },
     "execution_count": 23,
     "metadata": {},
     "output_type": "execute_result"
    },
    {
     "data": {
      "image/png": "[encoded data removed]",
      "text/plain": [
       "<Figure size 1080x864 with 1 Axes>"
      ]
     },
     "metadata": {},
     "output_type": "display_data"
    }
   ],
   "source": [
    "grafico = tabla.plot(kind='barh',figsize = (15,12), color = 'green')\n",
    "grafico.set_ylabel('id, modelo, color',fontsize=18)\n",
    "grafico.set_xlabel('Cantidad de Compra/Checkout/Visita',fontsize=18)\n",
    "grafico.set_title('Producto mas concurrentes en la pagina de Trocafone', fontsize=25,color = 'blue')"
   ]
  },
  {
   "cell_type": "code",
   "execution_count": 24,
   "metadata": {},
   "outputs": [
    {
     "data": {
      "text/plain": [
       "2830.0     4282\n",
       "2831.0     3770\n",
       "2829.0     3709\n",
       "8443.0     3506\n",
       "12758.0    2939\n",
       "2833.0     2908\n",
       "6371.0     2628\n",
       "5907.0     2602\n",
       "3371.0     2574\n",
       "9930.0     2540\n",
       "Name: sku, dtype: int64"
      ]
     },
     "execution_count": 24,
     "metadata": {},
     "output_type": "execute_result"
    }
   ],
   "source": [
    "eventos['sku'].value_counts().head(10)"
   ]
  },
  {
   "cell_type": "code",
   "execution_count": 28,
   "metadata": {},
   "outputs": [
    {
     "data": {
      "text/plain": [
       "Iphone                          1207\n",
       "Iphone 6                        1057\n",
       "iPhone 6                        1005\n",
       "iphone 6                         932\n",
       "iphone                           882\n",
       "iphone 6s                        784\n",
       "Iphone 6s                        736\n",
       "iPhone 6s                        716\n",
       "Motorola                         679\n",
       "iPhone                           638\n",
       "J7                               580\n",
       "J5                               540\n",
       "Samsung                          513\n",
       "S7                               474\n",
       "iphone 7                         428\n",
       "Iphone 7                         412\n",
       "iPhone 7                         371\n",
       "j7                               370\n",
       "s8                               354\n",
       "S8                               346\n",
       "Iphone 5s                        343\n",
       "iPhone 5s                        339\n",
       "iphone 5s                        315\n",
       "IPhone 6                         315\n",
       "j5                               310\n",
       "S6                               302\n",
       "s7                               289\n",
       "6s                               270\n",
       "Iphone 6 plus                    256\n",
       "Lg                               252\n",
       "                                ... \n",
       "samsung j7 p                       1\n",
       "tela de 6.0                        1\n",
       "Samsung galaxy j1                  1\n",
       "iPhone 6 dourado Rose              1\n",
       "Iphone  6 s                        1\n",
       "Galaxy a6                          1\n",
       "galaxy pocker                      1\n",
       "iPhone 4S 32GB Preto               1\n",
       "Celular Samsung j7TV               1\n",
       "kindle                             1\n",
       "Iphone 6s 64I                      1\n",
       "iphone 5 c16gb                     1\n",
       "Moto G3 16 gigas                   1\n",
       "iPhone 6s Plus 16g                 1\n",
       "iphone usado                       1\n",
       "Motorola max                       1\n",
       "J2 esxelente                       1\n",
       "motorola s5                        1\n",
       "j 7 metal                          1\n",
       "Samsunh A8                         1\n",
       ",moto z.                           1\n",
       "G4 stylus                          1\n",
       "iphone 64                          1\n",
       "Samsung Galaxy Win 2 Duos Tv       1\n",
       "s6 edg                             1\n",
       "S7 flat                            1\n",
       "Celular Motorola                   1\n",
       "Moto g6plus                        1\n",
       "2gb ram                            1\n",
       "s7 dourado                         1\n",
       "Name: search_term, Length: 5851, dtype: int64"
      ]
     },
     "execution_count": 28,
     "metadata": {},
     "output_type": "execute_result"
    }
   ],
   "source": [
    "eventos['search_term'].value_counts()"
   ]
  },
  {
   "cell_type": "code",
   "execution_count": 29,
   "metadata": {},
   "outputs": [],
   "source": [
    "#### de los que tienen 'lead'(suscripcion a producto sin stock para que avise cuando hay) ver si compraron o no esa persona\n"
   ]
  },
  {
   "cell_type": "code",
   "execution_count": 54,
   "metadata": {},
   "outputs": [
    {
     "data": {
      "text/plain": [
       "97e0bcf2    16\n",
       "52a4edd3    11\n",
       "58692743     8\n",
       "8dd8c1b4     6\n",
       "d5661793     5\n",
       "Name: person, dtype: int64"
      ]
     },
     "execution_count": 54,
     "metadata": {},
     "output_type": "execute_result"
    }
   ],
   "source": [
    "eventos[eventos['event']=='lead']['person'].value_counts().head()"
   ]
  },
  {
   "cell_type": "code",
   "execution_count": 33,
   "metadata": {},
   "outputs": [
    {
     "data": {
      "text/plain": [
       "Samsung Galaxy J7 Prime    14\n",
       "Samsung Galaxy J7 PRO       1\n",
       "Motorola Moto G4 Plus       1\n",
       "Name: model, dtype: int64"
      ]
     },
     "execution_count": 33,
     "metadata": {},
     "output_type": "execute_result"
    }
   ],
   "source": [
    "persona= eventos[eventos['person']=='97e0bcf2']\n",
    "personaConMasSuscripciones = persona[persona['event']=='lead']\n",
    "personaConMasSuscripciones['model'].value_counts()\n"
   ]
  },
  {
   "cell_type": "code",
   "execution_count": 34,
   "metadata": {},
   "outputs": [
    {
     "data": {
      "text/html": [
       "<div>\n",
       "<style scoped>\n",
       "    .dataframe tbody tr th:only-of-type {\n",
       "        vertical-align: middle;\n",
       "    }\n",
       "\n",
       "    .dataframe tbody tr th {\n",
       "        vertical-align: top;\n",
       "    }\n",
       "\n",
       "    .dataframe thead th {\n",
       "        text-align: right;\n",
       "    }\n",
       "</style>\n",
       "<table border=\"1\" class=\"dataframe\">\n",
       "  <thead>\n",
       "    <tr style=\"text-align: right;\">\n",
       "      <th></th>\n",
       "      <th>timestamp</th>\n",
       "      <th>event</th>\n",
       "      <th>person</th>\n",
       "      <th>url</th>\n",
       "      <th>sku</th>\n",
       "      <th>model</th>\n",
       "      <th>condition</th>\n",
       "      <th>storage</th>\n",
       "      <th>color</th>\n",
       "      <th>skus</th>\n",
       "      <th>...</th>\n",
       "      <th>channel</th>\n",
       "      <th>new_vs_returning</th>\n",
       "      <th>city</th>\n",
       "      <th>region</th>\n",
       "      <th>country</th>\n",
       "      <th>device_type</th>\n",
       "      <th>screen_resolution</th>\n",
       "      <th>operating_system_version</th>\n",
       "      <th>browser_version</th>\n",
       "      <th>marca</th>\n",
       "    </tr>\n",
       "  </thead>\n",
       "  <tbody>\n",
       "    <tr>\n",
       "      <th>593901</th>\n",
       "      <td>2018-03-10 02:48:14</td>\n",
       "      <td>conversion</td>\n",
       "      <td>97e0bcf2</td>\n",
       "      <td>NaN</td>\n",
       "      <td>9273.0</td>\n",
       "      <td>Samsung Galaxy J7 Prime</td>\n",
       "      <td>Muito Bom</td>\n",
       "      <td>32GB</td>\n",
       "      <td>Preto</td>\n",
       "      <td>NaN</td>\n",
       "      <td>...</td>\n",
       "      <td>NaN</td>\n",
       "      <td>NaN</td>\n",
       "      <td>NaN</td>\n",
       "      <td>NaN</td>\n",
       "      <td>NaN</td>\n",
       "      <td>NaN</td>\n",
       "      <td>NaN</td>\n",
       "      <td>NaN</td>\n",
       "      <td>NaN</td>\n",
       "      <td>Samsung</td>\n",
       "    </tr>\n",
       "  </tbody>\n",
       "</table>\n",
       "<p>1 rows × 24 columns</p>\n",
       "</div>"
      ],
      "text/plain": [
       "                  timestamp       event    person  url     sku  \\\n",
       "593901  2018-03-10 02:48:14  conversion  97e0bcf2  NaN  9273.0   \n",
       "\n",
       "                          model  condition storage  color skus   ...     \\\n",
       "593901  Samsung Galaxy J7 Prime  Muito Bom    32GB  Preto  NaN   ...      \n",
       "\n",
       "       channel new_vs_returning city region country device_type  \\\n",
       "593901     NaN              NaN  NaN    NaN     NaN         NaN   \n",
       "\n",
       "       screen_resolution operating_system_version browser_version    marca  \n",
       "593901               NaN                      NaN             NaN  Samsung  \n",
       "\n",
       "[1 rows x 24 columns]"
      ]
     },
     "execution_count": 34,
     "metadata": {},
     "output_type": "execute_result"
    }
   ],
   "source": [
    "persona[persona['event']=='conversion']"
   ]
  },
  {
   "cell_type": "code",
   "execution_count": 35,
   "metadata": {},
   "outputs": [
    {
     "data": {
      "text/plain": [
       "iPhone 6 Plus                3\n",
       "Motorola Moto G5 Plus        3\n",
       "Motorola Moto G3 4G          3\n",
       "Motorola Moto G4 Play DTV    2\n",
       "Name: model, dtype: int64"
      ]
     },
     "execution_count": 35,
     "metadata": {},
     "output_type": "execute_result"
    }
   ],
   "source": [
    "persona= eventos[eventos['person']=='52a4edd3']\n",
    "personaConMasSuscripciones = persona[persona['event']=='lead']\n",
    "personaConMasSuscripciones['model'].value_counts()"
   ]
  },
  {
   "cell_type": "code",
   "execution_count": 36,
   "metadata": {},
   "outputs": [
    {
     "data": {
      "text/html": [
       "<div>\n",
       "<style scoped>\n",
       "    .dataframe tbody tr th:only-of-type {\n",
       "        vertical-align: middle;\n",
       "    }\n",
       "\n",
       "    .dataframe tbody tr th {\n",
       "        vertical-align: top;\n",
       "    }\n",
       "\n",
       "    .dataframe thead th {\n",
       "        text-align: right;\n",
       "    }\n",
       "</style>\n",
       "<table border=\"1\" class=\"dataframe\">\n",
       "  <thead>\n",
       "    <tr style=\"text-align: right;\">\n",
       "      <th></th>\n",
       "      <th>timestamp</th>\n",
       "      <th>event</th>\n",
       "      <th>person</th>\n",
       "      <th>url</th>\n",
       "      <th>sku</th>\n",
       "      <th>model</th>\n",
       "      <th>condition</th>\n",
       "      <th>storage</th>\n",
       "      <th>color</th>\n",
       "      <th>skus</th>\n",
       "      <th>...</th>\n",
       "      <th>channel</th>\n",
       "      <th>new_vs_returning</th>\n",
       "      <th>city</th>\n",
       "      <th>region</th>\n",
       "      <th>country</th>\n",
       "      <th>device_type</th>\n",
       "      <th>screen_resolution</th>\n",
       "      <th>operating_system_version</th>\n",
       "      <th>browser_version</th>\n",
       "      <th>marca</th>\n",
       "    </tr>\n",
       "  </thead>\n",
       "  <tbody>\n",
       "    <tr>\n",
       "      <th>314871</th>\n",
       "      <td>2018-04-17 17:39:01</td>\n",
       "      <td>conversion</td>\n",
       "      <td>52a4edd3</td>\n",
       "      <td>NaN</td>\n",
       "      <td>7617.0</td>\n",
       "      <td>Motorola Moto G3 4G</td>\n",
       "      <td>Bom</td>\n",
       "      <td>16GB</td>\n",
       "      <td>Branco</td>\n",
       "      <td>NaN</td>\n",
       "      <td>...</td>\n",
       "      <td>NaN</td>\n",
       "      <td>NaN</td>\n",
       "      <td>NaN</td>\n",
       "      <td>NaN</td>\n",
       "      <td>NaN</td>\n",
       "      <td>NaN</td>\n",
       "      <td>NaN</td>\n",
       "      <td>NaN</td>\n",
       "      <td>NaN</td>\n",
       "      <td>Motorola</td>\n",
       "    </tr>\n",
       "  </tbody>\n",
       "</table>\n",
       "<p>1 rows × 24 columns</p>\n",
       "</div>"
      ],
      "text/plain": [
       "                  timestamp       event    person  url     sku  \\\n",
       "314871  2018-04-17 17:39:01  conversion  52a4edd3  NaN  7617.0   \n",
       "\n",
       "                      model condition storage   color skus    ...    channel  \\\n",
       "314871  Motorola Moto G3 4G       Bom    16GB  Branco  NaN    ...        NaN   \n",
       "\n",
       "       new_vs_returning city region country device_type screen_resolution  \\\n",
       "314871              NaN  NaN    NaN     NaN         NaN               NaN   \n",
       "\n",
       "       operating_system_version browser_version     marca  \n",
       "314871                      NaN             NaN  Motorola  \n",
       "\n",
       "[1 rows x 24 columns]"
      ]
     },
     "execution_count": 36,
     "metadata": {},
     "output_type": "execute_result"
    }
   ],
   "source": [
    "persona[persona['event']=='conversion']"
   ]
  },
  {
   "cell_type": "code",
   "execution_count": 50,
   "metadata": {},
   "outputs": [
    {
     "data": {
      "text/plain": [
       "iPhone 6S Plus    6\n",
       "iPhone 6 Plus     2\n",
       "Name: model, dtype: int64"
      ]
     },
     "execution_count": 50,
     "metadata": {},
     "output_type": "execute_result"
    }
   ],
   "source": [
    "persona= eventos[eventos['person']=='58692743']\n",
    "personaConMasSuscripciones = persona[persona['event']=='lead']\n",
    "personaConMasSuscripciones['model'].value_counts()\n"
   ]
  },
  {
   "cell_type": "code",
   "execution_count": 38,
   "metadata": {},
   "outputs": [
    {
     "data": {
      "text/html": [
       "<div>\n",
       "<style scoped>\n",
       "    .dataframe tbody tr th:only-of-type {\n",
       "        vertical-align: middle;\n",
       "    }\n",
       "\n",
       "    .dataframe tbody tr th {\n",
       "        vertical-align: top;\n",
       "    }\n",
       "\n",
       "    .dataframe thead th {\n",
       "        text-align: right;\n",
       "    }\n",
       "</style>\n",
       "<table border=\"1\" class=\"dataframe\">\n",
       "  <thead>\n",
       "    <tr style=\"text-align: right;\">\n",
       "      <th></th>\n",
       "      <th>timestamp</th>\n",
       "      <th>event</th>\n",
       "      <th>person</th>\n",
       "      <th>url</th>\n",
       "      <th>sku</th>\n",
       "      <th>model</th>\n",
       "      <th>condition</th>\n",
       "      <th>storage</th>\n",
       "      <th>color</th>\n",
       "      <th>skus</th>\n",
       "      <th>...</th>\n",
       "      <th>channel</th>\n",
       "      <th>new_vs_returning</th>\n",
       "      <th>city</th>\n",
       "      <th>region</th>\n",
       "      <th>country</th>\n",
       "      <th>device_type</th>\n",
       "      <th>screen_resolution</th>\n",
       "      <th>operating_system_version</th>\n",
       "      <th>browser_version</th>\n",
       "      <th>marca</th>\n",
       "    </tr>\n",
       "  </thead>\n",
       "  <tbody>\n",
       "  </tbody>\n",
       "</table>\n",
       "<p>0 rows × 24 columns</p>\n",
       "</div>"
      ],
      "text/plain": [
       "Empty DataFrame\n",
       "Columns: [timestamp, event, person, url, sku, model, condition, storage, color, skus, search_term, staticpage, campaign_source, search_engine, channel, new_vs_returning, city, region, country, device_type, screen_resolution, operating_system_version, browser_version, marca]\n",
       "Index: []\n",
       "\n",
       "[0 rows x 24 columns]"
      ]
     },
     "execution_count": 38,
     "metadata": {},
     "output_type": "execute_result"
    }
   ],
   "source": [
    "persona[persona['event']=='conversion']"
   ]
  },
  {
   "cell_type": "code",
   "execution_count": 48,
   "metadata": {},
   "outputs": [
    {
     "data": {
      "text/plain": [
       "Samsung Galaxy A9 Pro 2016    3\n",
       "iPhone 6 Plus                 2\n",
       "Samsung Galaxy Note 4         1\n",
       "Name: model, dtype: int64"
      ]
     },
     "execution_count": 48,
     "metadata": {},
     "output_type": "execute_result"
    }
   ],
   "source": [
    "persona= eventos[eventos['person']=='8dd8c1b4']\n",
    "personaConMasSuscripciones = persona[persona['event']=='lead']\n",
    "personaConMasSuscripciones['model'].value_counts()\n"
   ]
  },
  {
   "cell_type": "code",
   "execution_count": 49,
   "metadata": {
    "scrolled": true
   },
   "outputs": [
    {
     "data": {
      "text/html": [
       "<div>\n",
       "<style scoped>\n",
       "    .dataframe tbody tr th:only-of-type {\n",
       "        vertical-align: middle;\n",
       "    }\n",
       "\n",
       "    .dataframe tbody tr th {\n",
       "        vertical-align: top;\n",
       "    }\n",
       "\n",
       "    .dataframe thead th {\n",
       "        text-align: right;\n",
       "    }\n",
       "</style>\n",
       "<table border=\"1\" class=\"dataframe\">\n",
       "  <thead>\n",
       "    <tr style=\"text-align: right;\">\n",
       "      <th></th>\n",
       "      <th>persona</th>\n",
       "      <th>cantidad de suscripciones</th>\n",
       "    </tr>\n",
       "  </thead>\n",
       "  <tbody>\n",
       "    <tr>\n",
       "      <th>0</th>\n",
       "      <td>97e0bcf2</td>\n",
       "      <td>16</td>\n",
       "    </tr>\n",
       "    <tr>\n",
       "      <th>1</th>\n",
       "      <td>52a4edd3</td>\n",
       "      <td>11</td>\n",
       "    </tr>\n",
       "    <tr>\n",
       "      <th>2</th>\n",
       "      <td>58692743</td>\n",
       "      <td>8</td>\n",
       "    </tr>\n",
       "    <tr>\n",
       "      <th>3</th>\n",
       "      <td>8dd8c1b4</td>\n",
       "      <td>6</td>\n",
       "    </tr>\n",
       "    <tr>\n",
       "      <th>4</th>\n",
       "      <td>d5661793</td>\n",
       "      <td>5</td>\n",
       "    </tr>\n",
       "  </tbody>\n",
       "</table>\n",
       "</div>"
      ],
      "text/plain": [
       "    persona  cantidad de suscripciones\n",
       "0  97e0bcf2                         16\n",
       "1  52a4edd3                         11\n",
       "2  58692743                          8\n",
       "3  8dd8c1b4                          6\n",
       "4  d5661793                          5"
      ]
     },
     "execution_count": 49,
     "metadata": {},
     "output_type": "execute_result"
    }
   ],
   "source": [
    "personasConMasSuscripciones = eventos[eventos['event']=='lead']['person'].value_counts().head(5).reset_index()\n",
    "personasConMasSuscripciones.columns = ['persona','cantidad de suscripciones']\n",
    "personasConMasSuscripciones"
   ]
  },
  {
   "cell_type": "code",
   "execution_count": 57,
   "metadata": {},
   "outputs": [
    {
     "data": {
      "text/plain": [
       "Index(['persona', 'cantidad de suscripciones'], dtype='object')"
      ]
     },
     "execution_count": 57,
     "metadata": {},
     "output_type": "execute_result"
    }
   ],
   "source": [
    "persona[persona['event']=='conversion']\n",
    "personasConMasSuscripciones.columns"
   ]
  },
  {
   "cell_type": "code",
   "execution_count": null,
   "metadata": {},
   "outputs": [],
   "source": []
  },
  {
   "cell_type": "code",
   "execution_count": 61,
   "metadata": {},
   "outputs": [
    {
     "ename": "KeyError",
     "evalue": "'evento'",
     "output_type": "error",
     "traceback": [
      "\u001b[0;31m---------------------------------------------------------------------------\u001b[0m",
      "\u001b[0;31mKeyError\u001b[0m                                  Traceback (most recent call last)",
      "\u001b[0;32m<ipython-input-61-f29ece307c42>\u001b[0m in \u001b[0;36m<module>\u001b[0;34m()\u001b[0m\n\u001b[0;32m----> 1\u001b[0;31m \u001b[0mtabla\u001b[0m \u001b[0;34m=\u001b[0m \u001b[0mpersonasConMasSuscripciones\u001b[0m\u001b[0;34m.\u001b[0m\u001b[0mgroupby\u001b[0m\u001b[0;34m(\u001b[0m\u001b[0;34m[\u001b[0m\u001b[0;34m'persona'\u001b[0m\u001b[0;34m,\u001b[0m\u001b[0;34m'evento'\u001b[0m\u001b[0;34m]\u001b[0m\u001b[0;34m)\u001b[0m\u001b[0;34m.\u001b[0m\u001b[0magg\u001b[0m\u001b[0;34m(\u001b[0m\u001b[0mnp\u001b[0m\u001b[0;34m.\u001b[0m\u001b[0msize\u001b[0m\u001b[0;34m)\u001b[0m\u001b[0;34m.\u001b[0m\u001b[0mplot\u001b[0m\u001b[0;34m(\u001b[0m\u001b[0mkind\u001b[0m\u001b[0;34m=\u001b[0m\u001b[0;34m'bar'\u001b[0m\u001b[0;34m)\u001b[0m\u001b[0;34m\u001b[0m\u001b[0m\n\u001b[0m",
      "\u001b[0;32m~/anaconda3/lib/python3.6/site-packages/pandas/core/generic.py\u001b[0m in \u001b[0;36mgroupby\u001b[0;34m(self, by, axis, level, as_index, sort, group_keys, squeeze, observed, **kwargs)\u001b[0m\n\u001b[1;32m   6657\u001b[0m         return groupby(self, by=by, axis=axis, level=level, as_index=as_index,\n\u001b[1;32m   6658\u001b[0m                        \u001b[0msort\u001b[0m\u001b[0;34m=\u001b[0m\u001b[0msort\u001b[0m\u001b[0;34m,\u001b[0m \u001b[0mgroup_keys\u001b[0m\u001b[0;34m=\u001b[0m\u001b[0mgroup_keys\u001b[0m\u001b[0;34m,\u001b[0m \u001b[0msqueeze\u001b[0m\u001b[0;34m=\u001b[0m\u001b[0msqueeze\u001b[0m\u001b[0;34m,\u001b[0m\u001b[0;34m\u001b[0m\u001b[0m\n\u001b[0;32m-> 6659\u001b[0;31m                        observed=observed, **kwargs)\n\u001b[0m\u001b[1;32m   6660\u001b[0m \u001b[0;34m\u001b[0m\u001b[0m\n\u001b[1;32m   6661\u001b[0m     def asfreq(self, freq, method=None, how=None, normalize=False,\n",
      "\u001b[0;32m~/anaconda3/lib/python3.6/site-packages/pandas/core/groupby/groupby.py\u001b[0m in \u001b[0;36mgroupby\u001b[0;34m(obj, by, **kwds)\u001b[0m\n\u001b[1;32m   2150\u001b[0m         \u001b[0;32mraise\u001b[0m \u001b[0mTypeError\u001b[0m\u001b[0;34m(\u001b[0m\u001b[0;34m'invalid type: %s'\u001b[0m \u001b[0;34m%\u001b[0m \u001b[0mtype\u001b[0m\u001b[0;34m(\u001b[0m\u001b[0mobj\u001b[0m\u001b[0;34m)\u001b[0m\u001b[0;34m)\u001b[0m\u001b[0;34m\u001b[0m\u001b[0m\n\u001b[1;32m   2151\u001b[0m \u001b[0;34m\u001b[0m\u001b[0m\n\u001b[0;32m-> 2152\u001b[0;31m     \u001b[0;32mreturn\u001b[0m \u001b[0mklass\u001b[0m\u001b[0;34m(\u001b[0m\u001b[0mobj\u001b[0m\u001b[0;34m,\u001b[0m \u001b[0mby\u001b[0m\u001b[0;34m,\u001b[0m \u001b[0;34m**\u001b[0m\u001b[0mkwds\u001b[0m\u001b[0;34m)\u001b[0m\u001b[0;34m\u001b[0m\u001b[0m\n\u001b[0m\u001b[1;32m   2153\u001b[0m \u001b[0;34m\u001b[0m\u001b[0m\n\u001b[1;32m   2154\u001b[0m \u001b[0;34m\u001b[0m\u001b[0m\n",
      "\u001b[0;32m~/anaconda3/lib/python3.6/site-packages/pandas/core/groupby/groupby.py\u001b[0m in \u001b[0;36m__init__\u001b[0;34m(self, obj, keys, axis, level, grouper, exclusions, selection, as_index, sort, group_keys, squeeze, observed, **kwargs)\u001b[0m\n\u001b[1;32m    597\u001b[0m                                                     \u001b[0msort\u001b[0m\u001b[0;34m=\u001b[0m\u001b[0msort\u001b[0m\u001b[0;34m,\u001b[0m\u001b[0;34m\u001b[0m\u001b[0m\n\u001b[1;32m    598\u001b[0m                                                     \u001b[0mobserved\u001b[0m\u001b[0;34m=\u001b[0m\u001b[0mobserved\u001b[0m\u001b[0;34m,\u001b[0m\u001b[0;34m\u001b[0m\u001b[0m\n\u001b[0;32m--> 599\u001b[0;31m                                                     mutated=self.mutated)\n\u001b[0m\u001b[1;32m    600\u001b[0m \u001b[0;34m\u001b[0m\u001b[0m\n\u001b[1;32m    601\u001b[0m         \u001b[0mself\u001b[0m\u001b[0;34m.\u001b[0m\u001b[0mobj\u001b[0m \u001b[0;34m=\u001b[0m \u001b[0mobj\u001b[0m\u001b[0;34m\u001b[0m\u001b[0m\n",
      "\u001b[0;32m~/anaconda3/lib/python3.6/site-packages/pandas/core/groupby/groupby.py\u001b[0m in \u001b[0;36m_get_grouper\u001b[0;34m(obj, key, axis, level, sort, observed, mutated, validate)\u001b[0m\n\u001b[1;32m   3289\u001b[0m                 \u001b[0min_axis\u001b[0m\u001b[0;34m,\u001b[0m \u001b[0mname\u001b[0m\u001b[0;34m,\u001b[0m \u001b[0mlevel\u001b[0m\u001b[0;34m,\u001b[0m \u001b[0mgpr\u001b[0m \u001b[0;34m=\u001b[0m \u001b[0;32mFalse\u001b[0m\u001b[0;34m,\u001b[0m \u001b[0;32mNone\u001b[0m\u001b[0;34m,\u001b[0m \u001b[0mgpr\u001b[0m\u001b[0;34m,\u001b[0m \u001b[0;32mNone\u001b[0m\u001b[0;34m\u001b[0m\u001b[0m\n\u001b[1;32m   3290\u001b[0m             \u001b[0;32melse\u001b[0m\u001b[0;34m:\u001b[0m\u001b[0;34m\u001b[0m\u001b[0m\n\u001b[0;32m-> 3291\u001b[0;31m                 \u001b[0;32mraise\u001b[0m \u001b[0mKeyError\u001b[0m\u001b[0;34m(\u001b[0m\u001b[0mgpr\u001b[0m\u001b[0;34m)\u001b[0m\u001b[0;34m\u001b[0m\u001b[0m\n\u001b[0m\u001b[1;32m   3292\u001b[0m         \u001b[0;32melif\u001b[0m \u001b[0misinstance\u001b[0m\u001b[0;34m(\u001b[0m\u001b[0mgpr\u001b[0m\u001b[0;34m,\u001b[0m \u001b[0mGrouper\u001b[0m\u001b[0;34m)\u001b[0m \u001b[0;32mand\u001b[0m \u001b[0mgpr\u001b[0m\u001b[0;34m.\u001b[0m\u001b[0mkey\u001b[0m \u001b[0;32mis\u001b[0m \u001b[0;32mnot\u001b[0m \u001b[0;32mNone\u001b[0m\u001b[0;34m:\u001b[0m\u001b[0;34m\u001b[0m\u001b[0m\n\u001b[1;32m   3293\u001b[0m             \u001b[0;31m# Add key to exclusions\u001b[0m\u001b[0;34m\u001b[0m\u001b[0;34m\u001b[0m\u001b[0m\n",
      "\u001b[0;31mKeyError\u001b[0m: 'evento'"
     ]
    }
   ],
   "source": [
    "tabla = personasConMasSuscripciones.groupby(['persona','evento']).agg(np.size).plot(kind='bar')"
   ]
  },
  {
   "cell_type": "code",
   "execution_count": 60,
   "metadata": {},
   "outputs": [
    {
     "data": {
      "text/plain": [
       "Lenovo Vibe A7010 Dual Chip    4\n",
       "LG K10 Novo                    1\n",
       "Name: model, dtype: int64"
      ]
     },
     "execution_count": 60,
     "metadata": {},
     "output_type": "execute_result"
    }
   ],
   "source": [
    "persona= eventos[eventos['person']=='d5661793']\n",
    "personaConMasSuscripciones = persona[persona['event']=='lead']\n",
    "personaConMasSuscripciones['model'].value_counts()\n"
   ]
  },
  {
   "cell_type": "code",
   "execution_count": 62,
   "metadata": {},
   "outputs": [
    {
     "data": {
      "text/plain": [
       "<matplotlib.axes._subplots.AxesSubplot at 0x7fede77118d0>"
      ]
     },
     "execution_count": 62,
     "metadata": {},
     "output_type": "execute_result"
    },
    {
     "data": {
      "image/png": "[encoded data removed]",
      "text/plain": [
       "<Figure size 432x288 with 1 Axes>"
      ]
     },
     "metadata": {},
     "output_type": "display_data"
    }
   ],
   "source": [
    "eventos.search_engine.value_counts().plot(kind='bar')"
   ]
  },
  {
   "cell_type": "code",
   "execution_count": 63,
   "metadata": {},
   "outputs": [
    {
     "data": {
      "text/html": [
       "<div>\n",
       "<style scoped>\n",
       "    .dataframe tbody tr th:only-of-type {\n",
       "        vertical-align: middle;\n",
       "    }\n",
       "\n",
       "    .dataframe tbody tr th {\n",
       "        vertical-align: top;\n",
       "    }\n",
       "\n",
       "    .dataframe thead th {\n",
       "        text-align: right;\n",
       "    }\n",
       "</style>\n",
       "<table border=\"1\" class=\"dataframe\">\n",
       "  <thead>\n",
       "    <tr style=\"text-align: right;\">\n",
       "      <th></th>\n",
       "      <th>timestamp</th>\n",
       "      <th>event</th>\n",
       "      <th>person</th>\n",
       "      <th>url</th>\n",
       "      <th>sku</th>\n",
       "      <th>model</th>\n",
       "      <th>condition</th>\n",
       "      <th>storage</th>\n",
       "      <th>color</th>\n",
       "      <th>skus</th>\n",
       "      <th>...</th>\n",
       "      <th>channel</th>\n",
       "      <th>new_vs_returning</th>\n",
       "      <th>city</th>\n",
       "      <th>region</th>\n",
       "      <th>country</th>\n",
       "      <th>device_type</th>\n",
       "      <th>screen_resolution</th>\n",
       "      <th>operating_system_version</th>\n",
       "      <th>browser_version</th>\n",
       "      <th>marca</th>\n",
       "    </tr>\n",
       "  </thead>\n",
       "  <tbody>\n",
       "  </tbody>\n",
       "</table>\n",
       "<p>0 rows × 24 columns</p>\n",
       "</div>"
      ],
      "text/plain": [
       "Empty DataFrame\n",
       "Columns: [timestamp, event, person, url, sku, model, condition, storage, color, skus, search_term, staticpage, campaign_source, search_engine, channel, new_vs_returning, city, region, country, device_type, screen_resolution, operating_system_version, browser_version, marca]\n",
       "Index: []\n",
       "\n",
       "[0 rows x 24 columns]"
      ]
     },
     "execution_count": 63,
     "metadata": {},
     "output_type": "execute_result"
    }
   ],
   "source": [
    "persona[persona['event']=='conversion']"
   ]
  },
  {
   "cell_type": "code",
   "execution_count": 64,
   "metadata": {
    "scrolled": true
   },
   "outputs": [
    {
     "ename": "AttributeError",
     "evalue": "'AxesSubplot' object has no attribute 'columns'",
     "output_type": "error",
     "traceback": [
      "\u001b[0;31m---------------------------------------------------------------------------\u001b[0m",
      "\u001b[0;31mAttributeError\u001b[0m                            Traceback (most recent call last)",
      "\u001b[0;32m<ipython-input-64-81448d045715>\u001b[0m in \u001b[0;36m<module>\u001b[0;34m()\u001b[0m\n\u001b[0;32m----> 1\u001b[0;31m \u001b[0mtabla\u001b[0m\u001b[0;34m.\u001b[0m\u001b[0mcolumns\u001b[0m\u001b[0;34m\u001b[0m\u001b[0m\n\u001b[0m",
      "\u001b[0;31mAttributeError\u001b[0m: 'AxesSubplot' object has no attribute 'columns'"
     ]
    }
   ],
   "source": [
    "tabla.columns"
   ]
  },
  {
   "cell_type": "code",
   "execution_count": 65,
   "metadata": {},
   "outputs": [
    {
     "data": {
      "text/plain": [
       "visited site    87378\n",
       "Name: event, dtype: int64"
      ]
     },
     "execution_count": 65,
     "metadata": {},
     "output_type": "execute_result"
    }
   ],
   "source": [
    "usuariosNuevosYYaRegistrados = eventos.loc[(eventos['new_vs_returning'] == 'New')\n",
    "                                        |(eventos['new_vs_returning'] == 'Returning'),:]\n",
    "usuariosNuevosYYaRegistrados['event'].value_counts()\n",
    "#podemos ver q la clumna new_vs_returning solo se guarda para eventos del tipo visited site"
   ]
  },
  {
   "cell_type": "code",
   "execution_count": null,
   "metadata": {},
   "outputs": [],
   "source": []
  },
  {
   "cell_type": "code",
   "execution_count": 66,
   "metadata": {},
   "outputs": [
    {
     "data": {
      "text/plain": [
       "<matplotlib.axes._subplots.AxesSubplot at 0x7fede76c17b8>"
      ]
     },
     "execution_count": 66,
     "metadata": {},
     "output_type": "execute_result"
    },
    {
     "data": {
      "image/png": "[encoded data removed]",
      "text/plain": [
       "<Figure size 432x288 with 1 Axes>"
      ]
     },
     "metadata": {},
     "output_type": "display_data"
    }
   ],
   "source": [
    "eventos['new_vs_returning'].value_counts().plot(kind='bar')"
   ]
  },
  {
   "cell_type": "code",
   "execution_count": 67,
   "metadata": {},
   "outputs": [
    {
     "data": {
      "text/plain": [
       "<function matplotlib.pyplot.show(*args, **kw)>"
      ]
     },
     "execution_count": 67,
     "metadata": {},
     "output_type": "execute_result"
    },
    {
     "data": {
      "image/png": "[encoded data removed]",
      "text/plain": [
       "<Figure size 432x288 with 1 Axes>"
      ]
     },
     "metadata": {},
     "output_type": "display_data"
    },
    {
     "data": {
      "image/png": "[encoded data removed]",
      "text/plain": [
       "<Figure size 432x288 with 1 Axes>"
      ]
     },
     "metadata": {},
     "output_type": "display_data"
    },
    {
     "data": {
      "image/png": "[encoded data removed]",
      "text/plain": [
       "<Figure size 432x288 with 1 Axes>"
      ]
     },
     "metadata": {},
     "output_type": "display_data"
    },
    {
     "data": {
      "image/png": "[encoded data removed]",
      "text/plain": [
       "<Figure size 432x288 with 1 Axes>"
      ]
     },
     "metadata": {},
     "output_type": "display_data"
    },
    {
     "data": {
      "image/png": "[encoded data removed]",
      "text/plain": [
       "<Figure size 432x288 with 1 Axes>"
      ]
     },
     "metadata": {},
     "output_type": "display_data"
    }
   ],
   "source": [
    "personasConMasSuscripciones = eventos[['event','person','model']]\n",
    "personasConMasSuscripciones.columns = ['evento','persona','cantidad y modelos']\n",
    "personasConMasSuscripciones = personasConMasSuscripciones[personasConMasSuscripciones['evento'].str.contains('lead|conversion')]\n",
    "personasConMasSuscripciones = personasConMasSuscripciones.loc[(personasConMasSuscripciones['persona'] == '97e0bcf2')\n",
    "                                        |(personasConMasSuscripciones['persona'] =='52a4edd3')\n",
    "                                        |(personasConMasSuscripciones['persona'] =='58692743')\n",
    "                                        |(personasConMasSuscripciones['persona'] =='8dd8c1b4')\n",
    "                                        |(personasConMasSuscripciones['persona'] =='d5661793'),:]\n",
    "\n",
    "\n",
    "#tabla = personasConMasSuscripciones.groupby(['persona','evento']).agg([np.size,np.array])\n",
    "tabla = personasConMasSuscripciones.groupby(['persona','evento']).agg(np.size)\n",
    "#tabla.columns = ['cantidad','modelos']\n",
    "#tabla.plot(kind = 'bar')\n",
    "#plt.show()\n",
    "tabla.reset_index().groupby('persona').plot(kind='bar')\n",
    "plt.show"
   ]
  }
 ],
 "metadata": {
  "kernelspec": {
   "display_name": "Python 3",
   "language": "python",
   "name": "python3"
  },
  "language_info": {
   "codemirror_mode": {
    "name": "ipython",
    "version": 3
   },
   "file_extension": ".py",
   "mimetype": "text/x-python",
   "name": "python",
   "nbconvert_exporter": "python",
   "pygments_lexer": "ipython3",
   "version": "3.6.5"
  }
 },
 "nbformat": 4,
 "nbformat_minor": 2
}
